{
 "cells": [
  {
   "cell_type": "code",
   "execution_count": 4,
   "id": "4cec866e-497b-4b20-9759-916be87da7b9",
   "metadata": {},
   "outputs": [],
   "source": [
    " import pandas as pd\n",
    " import numpy as np"
   ]
  },
  {
   "cell_type": "code",
   "execution_count": 2,
   "id": "076447aa-61a3-43e9-bc4c-beb2973b1ef0",
   "metadata": {},
   "outputs": [
    {
     "name": "stdout",
     "output_type": "stream",
     "text": [
      "Defaulting to user installation because normal site-packages is not writeable\n",
      "Collecting pandas\n",
      "  Downloading pandas-2.3.0-cp313-cp313-win_amd64.whl.metadata (19 kB)\n",
      "Requirement already satisfied: numpy>=1.26.0 in c:\\users\\rajan\\appdata\\local\\packages\\pythonsoftwarefoundation.python.3.13_qbz5n2kfra8p0\\localcache\\local-packages\\python313\\site-packages (from pandas) (2.3.0)\n",
      "Requirement already satisfied: python-dateutil>=2.8.2 in c:\\users\\rajan\\appdata\\local\\packages\\pythonsoftwarefoundation.python.3.13_qbz5n2kfra8p0\\localcache\\local-packages\\python313\\site-packages (from pandas) (2.9.0.post0)\n",
      "Collecting pytz>=2020.1 (from pandas)\n",
      "  Downloading pytz-2025.2-py2.py3-none-any.whl.metadata (22 kB)\n",
      "Collecting tzdata>=2022.7 (from pandas)\n",
      "  Downloading tzdata-2025.2-py2.py3-none-any.whl.metadata (1.4 kB)\n",
      "Requirement already satisfied: six>=1.5 in c:\\users\\rajan\\appdata\\local\\packages\\pythonsoftwarefoundation.python.3.13_qbz5n2kfra8p0\\localcache\\local-packages\\python313\\site-packages (from python-dateutil>=2.8.2->pandas) (1.17.0)\n",
      "Downloading pandas-2.3.0-cp313-cp313-win_amd64.whl (11.0 MB)\n",
      "   ---------------------------------------- 0.0/11.0 MB ? eta -:--:--\n",
      "    --------------------------------------- 0.3/11.0 MB ? eta -:--:--\n",
      "   -- ------------------------------------- 0.8/11.0 MB 2.0 MB/s eta 0:00:06\n",
      "   --- ------------------------------------ 1.0/11.0 MB 2.0 MB/s eta 0:00:05\n",
      "   ----- ---------------------------------- 1.6/11.0 MB 2.1 MB/s eta 0:00:05\n",
      "   ------ --------------------------------- 1.8/11.0 MB 2.2 MB/s eta 0:00:05\n",
      "   -------- ------------------------------- 2.4/11.0 MB 1.9 MB/s eta 0:00:05\n",
      "   ---------- ----------------------------- 2.9/11.0 MB 2.0 MB/s eta 0:00:04\n",
      "   ------------ --------------------------- 3.4/11.0 MB 2.1 MB/s eta 0:00:04\n",
      "   -------------- ------------------------- 3.9/11.0 MB 2.1 MB/s eta 0:00:04\n",
      "   --------------- ------------------------ 4.2/11.0 MB 2.1 MB/s eta 0:00:04\n",
      "   ----------------- ---------------------- 4.7/11.0 MB 2.1 MB/s eta 0:00:03\n",
      "   ------------------- -------------------- 5.2/11.0 MB 2.1 MB/s eta 0:00:03\n",
      "   --------------------- ------------------ 5.8/11.0 MB 2.1 MB/s eta 0:00:03\n",
      "   --------------------- ------------------ 6.0/11.0 MB 2.1 MB/s eta 0:00:03\n",
      "   ---------------------- ----------------- 6.3/11.0 MB 2.1 MB/s eta 0:00:03\n",
      "   ----------------------- ---------------- 6.6/11.0 MB 2.0 MB/s eta 0:00:03\n",
      "   ----------------------- ---------------- 6.6/11.0 MB 2.0 MB/s eta 0:00:03\n",
      "   ----------------------- ---------------- 6.6/11.0 MB 2.0 MB/s eta 0:00:03\n",
      "   ----------------------- ---------------- 6.6/11.0 MB 2.0 MB/s eta 0:00:03\n",
      "   ------------------------ --------------- 6.8/11.0 MB 1.7 MB/s eta 0:00:03\n",
      "   ------------------------ --------------- 6.8/11.0 MB 1.7 MB/s eta 0:00:03\n",
      "   ------------------------- -------------- 7.1/11.0 MB 1.5 MB/s eta 0:00:03\n",
      "   -------------------------- ------------- 7.3/11.0 MB 1.5 MB/s eta 0:00:03\n",
      "   ---------------------------- ----------- 7.9/11.0 MB 1.5 MB/s eta 0:00:03\n",
      "   ----------------------------- ---------- 8.1/11.0 MB 1.6 MB/s eta 0:00:02\n",
      "   ------------------------------- -------- 8.7/11.0 MB 1.6 MB/s eta 0:00:02\n",
      "   --------------------------------- ------ 9.2/11.0 MB 1.6 MB/s eta 0:00:02\n",
      "   ---------------------------------- ----- 9.4/11.0 MB 1.6 MB/s eta 0:00:01\n",
      "   ----------------------------------- ---- 9.7/11.0 MB 1.6 MB/s eta 0:00:01\n",
      "   ------------------------------------- -- 10.2/11.0 MB 1.6 MB/s eta 0:00:01\n",
      "   ---------------------------------------  10.7/11.0 MB 1.6 MB/s eta 0:00:01\n",
      "   ---------------------------------------- 11.0/11.0 MB 1.6 MB/s eta 0:00:00\n",
      "Downloading pytz-2025.2-py2.py3-none-any.whl (509 kB)\n",
      "Downloading tzdata-2025.2-py2.py3-none-any.whl (347 kB)\n",
      "Installing collected packages: pytz, tzdata, pandas\n",
      "Successfully installed pandas-2.3.0 pytz-2025.2 tzdata-2025.2\n",
      "Note: you may need to restart the kernel to use updated packages.\n"
     ]
    },
    {
     "name": "stderr",
     "output_type": "stream",
     "text": [
      "\n",
      "[notice] A new release of pip is available: 25.0.1 -> 25.1.1\n",
      "[notice] To update, run: C:\\Users\\Rajan\\AppData\\Local\\Microsoft\\WindowsApps\\PythonSoftwareFoundation.Python.3.13_qbz5n2kfra8p0\\python.exe -m pip install --upgrade pip\n"
     ]
    }
   ],
   "source": [
    "pip install pandas"
   ]
  },
  {
   "cell_type": "code",
   "execution_count": 5,
   "id": "476980be-02cd-4d0d-a032-59a1f049b62c",
   "metadata": {},
   "outputs": [],
   "source": [
    "df = pd.read_csv(r\"C:\\Users\\Rajan\\Downloads\\large_employee_dataset.csv\")"
   ]
  },
  {
   "cell_type": "code",
   "execution_count": 65,
   "id": "5e863b1b-6ad3-4b85-9dd6-604ce3d29362",
   "metadata": {},
   "outputs": [
    {
     "data": {
      "text/html": [
       "<div>\n",
       "<style scoped>\n",
       "    .dataframe tbody tr th:only-of-type {\n",
       "        vertical-align: middle;\n",
       "    }\n",
       "\n",
       "    .dataframe tbody tr th {\n",
       "        vertical-align: top;\n",
       "    }\n",
       "\n",
       "    .dataframe thead th {\n",
       "        text-align: right;\n",
       "    }\n",
       "</style>\n",
       "<table border=\"1\" class=\"dataframe\">\n",
       "  <thead>\n",
       "    <tr style=\"text-align: right;\">\n",
       "      <th></th>\n",
       "      <th>Age</th>\n",
       "      <th>Salary</th>\n",
       "      <th>ExperienceYears</th>\n",
       "      <th>Rating</th>\n",
       "    </tr>\n",
       "  </thead>\n",
       "  <tbody>\n",
       "    <tr>\n",
       "      <th>count</th>\n",
       "      <td>1000.000000</td>\n",
       "      <td>1000.000000</td>\n",
       "      <td>1000.000000</td>\n",
       "      <td>1000.000000</td>\n",
       "    </tr>\n",
       "    <tr>\n",
       "      <th>mean</th>\n",
       "      <td>42.154085</td>\n",
       "      <td>89299.755187</td>\n",
       "      <td>19.348624</td>\n",
       "      <td>2.938934</td>\n",
       "    </tr>\n",
       "    <tr>\n",
       "      <th>std</th>\n",
       "      <td>12.642384</td>\n",
       "      <td>33830.965692</td>\n",
       "      <td>11.368730</td>\n",
       "      <td>1.124751</td>\n",
       "    </tr>\n",
       "    <tr>\n",
       "      <th>min</th>\n",
       "      <td>20.000000</td>\n",
       "      <td>30138.000000</td>\n",
       "      <td>0.000000</td>\n",
       "      <td>1.000000</td>\n",
       "    </tr>\n",
       "    <tr>\n",
       "      <th>25%</th>\n",
       "      <td>31.000000</td>\n",
       "      <td>59281.250000</td>\n",
       "      <td>10.000000</td>\n",
       "      <td>2.000000</td>\n",
       "    </tr>\n",
       "    <tr>\n",
       "      <th>50%</th>\n",
       "      <td>42.154085</td>\n",
       "      <td>89299.755187</td>\n",
       "      <td>19.348624</td>\n",
       "      <td>2.938934</td>\n",
       "    </tr>\n",
       "    <tr>\n",
       "      <th>75%</th>\n",
       "      <td>53.000000</td>\n",
       "      <td>116670.250000</td>\n",
       "      <td>29.000000</td>\n",
       "      <td>3.800000</td>\n",
       "    </tr>\n",
       "    <tr>\n",
       "      <th>max</th>\n",
       "      <td>64.000000</td>\n",
       "      <td>149664.000000</td>\n",
       "      <td>39.000000</td>\n",
       "      <td>5.000000</td>\n",
       "    </tr>\n",
       "  </tbody>\n",
       "</table>\n",
       "</div>"
      ],
      "text/plain": [
       "               Age         Salary  ExperienceYears       Rating\n",
       "count  1000.000000    1000.000000      1000.000000  1000.000000\n",
       "mean     42.154085   89299.755187        19.348624     2.938934\n",
       "std      12.642384   33830.965692        11.368730     1.124751\n",
       "min      20.000000   30138.000000         0.000000     1.000000\n",
       "25%      31.000000   59281.250000        10.000000     2.000000\n",
       "50%      42.154085   89299.755187        19.348624     2.938934\n",
       "75%      53.000000  116670.250000        29.000000     3.800000\n",
       "max      64.000000  149664.000000        39.000000     5.000000"
      ]
     },
     "execution_count": 65,
     "metadata": {},
     "output_type": "execute_result"
    }
   ],
   "source": [
    "df.describe()"
   ]
  },
  {
   "cell_type": "code",
   "execution_count": 8,
   "id": "1769f932-ee1b-489d-abca-edf192205405",
   "metadata": {},
   "outputs": [
    {
     "data": {
      "text/html": [
       "<div>\n",
       "<style scoped>\n",
       "    .dataframe tbody tr th:only-of-type {\n",
       "        vertical-align: middle;\n",
       "    }\n",
       "\n",
       "    .dataframe tbody tr th {\n",
       "        vertical-align: top;\n",
       "    }\n",
       "\n",
       "    .dataframe thead th {\n",
       "        text-align: right;\n",
       "    }\n",
       "</style>\n",
       "<table border=\"1\" class=\"dataframe\">\n",
       "  <thead>\n",
       "    <tr style=\"text-align: right;\">\n",
       "      <th></th>\n",
       "      <th>EmployeeID</th>\n",
       "      <th>Name</th>\n",
       "      <th>Age</th>\n",
       "      <th>Department</th>\n",
       "      <th>Salary</th>\n",
       "      <th>ExperienceYears</th>\n",
       "      <th>Rating</th>\n",
       "    </tr>\n",
       "  </thead>\n",
       "  <tbody>\n",
       "    <tr>\n",
       "      <th>0</th>\n",
       "      <td>E1000</td>\n",
       "      <td>Wei</td>\n",
       "      <td>52.0</td>\n",
       "      <td>inf</td>\n",
       "      <td>NaN</td>\n",
       "      <td>33.0</td>\n",
       "      <td>2.8</td>\n",
       "    </tr>\n",
       "    <tr>\n",
       "      <th>1</th>\n",
       "      <td>E1001</td>\n",
       "      <td>Rita</td>\n",
       "      <td>59.0</td>\n",
       "      <td>HR</td>\n",
       "      <td>108112.0</td>\n",
       "      <td>36.0</td>\n",
       "      <td>2.1</td>\n",
       "    </tr>\n",
       "    <tr>\n",
       "      <th>2</th>\n",
       "      <td>E1002</td>\n",
       "      <td>Karen</td>\n",
       "      <td>62.0</td>\n",
       "      <td>Support</td>\n",
       "      <td>88067.0</td>\n",
       "      <td>5.0</td>\n",
       "      <td>4.2</td>\n",
       "    </tr>\n",
       "    <tr>\n",
       "      <th>3</th>\n",
       "      <td>E1003</td>\n",
       "      <td>David</td>\n",
       "      <td>31.0</td>\n",
       "      <td>Sales</td>\n",
       "      <td>57516.0</td>\n",
       "      <td>6.0</td>\n",
       "      <td>2.3</td>\n",
       "    </tr>\n",
       "    <tr>\n",
       "      <th>4</th>\n",
       "      <td>E1004</td>\n",
       "      <td>Wei</td>\n",
       "      <td>63.0</td>\n",
       "      <td>Sales</td>\n",
       "      <td>117969.0</td>\n",
       "      <td>31.0</td>\n",
       "      <td>2.2</td>\n",
       "    </tr>\n",
       "    <tr>\n",
       "      <th>5</th>\n",
       "      <td>E1005</td>\n",
       "      <td>Linda</td>\n",
       "      <td>55.0</td>\n",
       "      <td>Finance</td>\n",
       "      <td>31089.0</td>\n",
       "      <td>31.0</td>\n",
       "      <td>1.9</td>\n",
       "    </tr>\n",
       "    <tr>\n",
       "      <th>6</th>\n",
       "      <td>E1006</td>\n",
       "      <td>Ali</td>\n",
       "      <td>23.0</td>\n",
       "      <td>IT</td>\n",
       "      <td>67346.0</td>\n",
       "      <td>24.0</td>\n",
       "      <td>1.5</td>\n",
       "    </tr>\n",
       "    <tr>\n",
       "      <th>7</th>\n",
       "      <td>E1007</td>\n",
       "      <td>Wei</td>\n",
       "      <td>24.0</td>\n",
       "      <td>IT</td>\n",
       "      <td>NaN</td>\n",
       "      <td>32.0</td>\n",
       "      <td>2.0</td>\n",
       "    </tr>\n",
       "    <tr>\n",
       "      <th>8</th>\n",
       "      <td>E1008</td>\n",
       "      <td>Karen</td>\n",
       "      <td>56.0</td>\n",
       "      <td>HR</td>\n",
       "      <td>40487.0</td>\n",
       "      <td>6.0</td>\n",
       "      <td>2.4</td>\n",
       "    </tr>\n",
       "    <tr>\n",
       "      <th>9</th>\n",
       "      <td>E1009</td>\n",
       "      <td>David</td>\n",
       "      <td>NaN</td>\n",
       "      <td>Sales</td>\n",
       "      <td>30155.0</td>\n",
       "      <td>11.0</td>\n",
       "      <td>3.7</td>\n",
       "    </tr>\n",
       "  </tbody>\n",
       "</table>\n",
       "</div>"
      ],
      "text/plain": [
       "  EmployeeID   Name   Age Department    Salary  ExperienceYears  Rating\n",
       "0      E1000    Wei  52.0        inf       NaN             33.0     2.8\n",
       "1      E1001   Rita  59.0         HR  108112.0             36.0     2.1\n",
       "2      E1002  Karen  62.0    Support   88067.0              5.0     4.2\n",
       "3      E1003  David  31.0      Sales   57516.0              6.0     2.3\n",
       "4      E1004    Wei  63.0      Sales  117969.0             31.0     2.2\n",
       "5      E1005  Linda  55.0    Finance   31089.0             31.0     1.9\n",
       "6      E1006    Ali  23.0         IT   67346.0             24.0     1.5\n",
       "7      E1007    Wei  24.0         IT       NaN             32.0     2.0\n",
       "8      E1008  Karen  56.0         HR   40487.0              6.0     2.4\n",
       "9      E1009  David   NaN      Sales   30155.0             11.0     3.7"
      ]
     },
     "execution_count": 8,
     "metadata": {},
     "output_type": "execute_result"
    }
   ],
   "source": [
    "df.head(10)"
   ]
  },
  {
   "cell_type": "code",
   "execution_count": 54,
   "id": "f30518c2-f3ae-4c4d-bdec-39319e84881e",
   "metadata": {},
   "outputs": [
    {
     "data": {
      "text/plain": [
       "EmployeeID         0\n",
       "Name               0\n",
       "Age                0\n",
       "Department         0\n",
       "Salary             0\n",
       "ExperienceYears    0\n",
       "Rating             0\n",
       "dtype: int64"
      ]
     },
     "execution_count": 54,
     "metadata": {},
     "output_type": "execute_result"
    }
   ],
   "source": [
    "df.isnull().sum()"
   ]
  },
  {
   "cell_type": "code",
   "execution_count": 11,
   "id": "a8e81de3-ab54-4351-b60a-1a3623c810e3",
   "metadata": {},
   "outputs": [
    {
     "data": {
      "text/plain": [
       "0    inf\n",
       "Name: Salary, dtype: float64"
      ]
     },
     "execution_count": 11,
     "metadata": {},
     "output_type": "execute_result"
    }
   ],
   "source": [
    "df[\"Salary\"].mode()"
   ]
  },
  {
   "cell_type": "code",
   "execution_count": 1,
   "id": "79410142-2653-42e7-962c-e1aae5391bd7",
   "metadata": {},
   "outputs": [],
   "source": [
    "## replace the inf value by Nan for the column like age,salary,experienceyear and rating"
   ]
  },
  {
   "cell_type": "code",
   "execution_count": 8,
   "id": "611b6574-ff79-4bcd-99e8-fdd3605ec4a7",
   "metadata": {},
   "outputs": [
    {
     "name": "stderr",
     "output_type": "stream",
     "text": [
      "C:\\Users\\Rajan\\AppData\\Local\\Temp\\ipykernel_12988\\124159343.py:1: FutureWarning: A value is trying to be set on a copy of a DataFrame or Series through chained assignment using an inplace method.\n",
      "The behavior will change in pandas 3.0. This inplace method will never work because the intermediate object on which we are setting values always behaves as a copy.\n",
      "\n",
      "For example, when doing 'df[col].method(value, inplace=True)', try using 'df.method({col: value}, inplace=True)' or df[col] = df[col].method(value) instead, to perform the operation inplace on the original object.\n",
      "\n",
      "\n",
      "  df[\"Age\"].replace([np.inf,-np.inf],np.nan, inplace= True)\n"
     ]
    }
   ],
   "source": [
    "df[\"Age\"].replace([np.inf,-np.inf],np.nan, inplace= True)"
   ]
  },
  {
   "cell_type": "code",
   "execution_count": 11,
   "id": "b612d266-2128-48f9-96fe-aa7e30b5c73f",
   "metadata": {},
   "outputs": [
    {
     "name": "stderr",
     "output_type": "stream",
     "text": [
      "C:\\Users\\Rajan\\AppData\\Local\\Temp\\ipykernel_12988\\173231291.py:1: FutureWarning: A value is trying to be set on a copy of a DataFrame or Series through chained assignment using an inplace method.\n",
      "The behavior will change in pandas 3.0. This inplace method will never work because the intermediate object on which we are setting values always behaves as a copy.\n",
      "\n",
      "For example, when doing 'df[col].method(value, inplace=True)', try using 'df.method({col: value}, inplace=True)' or df[col] = df[col].method(value) instead, to perform the operation inplace on the original object.\n",
      "\n",
      "\n",
      "  df[\"ExperienceYears\"].replace([np.inf,-np.inf],np.nan, inplace= True)\n"
     ]
    }
   ],
   "source": [
    "df[\"ExperienceYears\"].replace([np.inf,-np.inf],np.nan, inplace= True)"
   ]
  },
  {
   "cell_type": "code",
   "execution_count": 12,
   "id": "0d3793ec-4196-47bb-a952-5cf54293b58a",
   "metadata": {},
   "outputs": [
    {
     "name": "stderr",
     "output_type": "stream",
     "text": [
      "C:\\Users\\Rajan\\AppData\\Local\\Temp\\ipykernel_12988\\1142907133.py:1: FutureWarning: A value is trying to be set on a copy of a DataFrame or Series through chained assignment using an inplace method.\n",
      "The behavior will change in pandas 3.0. This inplace method will never work because the intermediate object on which we are setting values always behaves as a copy.\n",
      "\n",
      "For example, when doing 'df[col].method(value, inplace=True)', try using 'df.method({col: value}, inplace=True)' or df[col] = df[col].method(value) instead, to perform the operation inplace on the original object.\n",
      "\n",
      "\n",
      "  df[\"Salary\"].replace([np.inf,-np.inf],np.nan, inplace= True)\n"
     ]
    }
   ],
   "source": [
    "df[\"Salary\"].replace([np.inf,-np.inf],np.nan, inplace= True)"
   ]
  },
  {
   "cell_type": "code",
   "execution_count": 14,
   "id": "8ff1a8cc-b296-4f8c-852e-d2b671415955",
   "metadata": {},
   "outputs": [
    {
     "name": "stderr",
     "output_type": "stream",
     "text": [
      "C:\\Users\\Rajan\\AppData\\Local\\Temp\\ipykernel_12988\\1726373702.py:1: FutureWarning: A value is trying to be set on a copy of a DataFrame or Series through chained assignment using an inplace method.\n",
      "The behavior will change in pandas 3.0. This inplace method will never work because the intermediate object on which we are setting values always behaves as a copy.\n",
      "\n",
      "For example, when doing 'df[col].method(value, inplace=True)', try using 'df.method({col: value}, inplace=True)' or df[col] = df[col].method(value) instead, to perform the operation inplace on the original object.\n",
      "\n",
      "\n",
      "  df[\"Rating\"].replace([np.inf,-np.inf],np.nan, inplace= True)\n"
     ]
    }
   ],
   "source": [
    "df[\"Rating\"].replace([np.inf,-np.inf],np.nan, inplace= True)"
   ]
  },
  {
   "cell_type": "code",
   "execution_count": null,
   "id": "23006325-ad44-4aaf-b778-a5e6896b1bcc",
   "metadata": {},
   "outputs": [],
   "source": [
    "## replace the nan value by Mean for the column like age,salary,experienceyear and rating"
   ]
  },
  {
   "cell_type": "code",
   "execution_count": 18,
   "id": "2c286f06-da7e-47d3-b3d6-eb71d91cc255",
   "metadata": {},
   "outputs": [
    {
     "name": "stderr",
     "output_type": "stream",
     "text": [
      "C:\\Users\\Rajan\\AppData\\Local\\Temp\\ipykernel_12988\\2156103880.py:1: FutureWarning: A value is trying to be set on a copy of a DataFrame or Series through chained assignment using an inplace method.\n",
      "The behavior will change in pandas 3.0. This inplace method will never work because the intermediate object on which we are setting values always behaves as a copy.\n",
      "\n",
      "For example, when doing 'df[col].method(value, inplace=True)', try using 'df.method({col: value}, inplace=True)' or df[col] = df[col].method(value) instead, to perform the operation inplace on the original object.\n",
      "\n",
      "\n",
      "  df[\"Salary\"].fillna(df[\"Salary\"].mean(),inplace=True)\n"
     ]
    }
   ],
   "source": [
    "df[\"Salary\"].fillna(df[\"Salary\"].mean(),inplace=True)"
   ]
  },
  {
   "cell_type": "code",
   "execution_count": 20,
   "id": "8985fdb1-695b-4998-81df-7a365e0b0777",
   "metadata": {},
   "outputs": [
    {
     "name": "stderr",
     "output_type": "stream",
     "text": [
      "C:\\Users\\Rajan\\AppData\\Local\\Temp\\ipykernel_12988\\2595122914.py:1: FutureWarning: A value is trying to be set on a copy of a DataFrame or Series through chained assignment using an inplace method.\n",
      "The behavior will change in pandas 3.0. This inplace method will never work because the intermediate object on which we are setting values always behaves as a copy.\n",
      "\n",
      "For example, when doing 'df[col].method(value, inplace=True)', try using 'df.method({col: value}, inplace=True)' or df[col] = df[col].method(value) instead, to perform the operation inplace on the original object.\n",
      "\n",
      "\n",
      "  df[\"Age\"].fillna(df[\"Age\"].mean(),inplace=True)\n"
     ]
    }
   ],
   "source": [
    "df[\"Age\"].fillna(df[\"Age\"].mean(),inplace=True)"
   ]
  },
  {
   "cell_type": "code",
   "execution_count": 21,
   "id": "fbedfc0d-970f-4a40-813c-f0476ddc8b0c",
   "metadata": {},
   "outputs": [
    {
     "name": "stderr",
     "output_type": "stream",
     "text": [
      "C:\\Users\\Rajan\\AppData\\Local\\Temp\\ipykernel_12988\\2672822100.py:1: FutureWarning: A value is trying to be set on a copy of a DataFrame or Series through chained assignment using an inplace method.\n",
      "The behavior will change in pandas 3.0. This inplace method will never work because the intermediate object on which we are setting values always behaves as a copy.\n",
      "\n",
      "For example, when doing 'df[col].method(value, inplace=True)', try using 'df.method({col: value}, inplace=True)' or df[col] = df[col].method(value) instead, to perform the operation inplace on the original object.\n",
      "\n",
      "\n",
      "  df[\"ExperienceYears\"].fillna(df[\"ExperienceYears\"].mean(),inplace= True)\n"
     ]
    }
   ],
   "source": [
    "df[\"ExperienceYears\"].fillna(df[\"ExperienceYears\"].mean(),inplace= True)"
   ]
  },
  {
   "cell_type": "code",
   "execution_count": 49,
   "id": "e434f0d3-385c-4299-ae0e-cfb8dd5d0d76",
   "metadata": {},
   "outputs": [
    {
     "name": "stderr",
     "output_type": "stream",
     "text": [
      "C:\\Users\\Rajan\\AppData\\Local\\Temp\\ipykernel_12988\\4019419779.py:1: FutureWarning: A value is trying to be set on a copy of a DataFrame or Series through chained assignment using an inplace method.\n",
      "The behavior will change in pandas 3.0. This inplace method will never work because the intermediate object on which we are setting values always behaves as a copy.\n",
      "\n",
      "For example, when doing 'df[col].method(value, inplace=True)', try using 'df.method({col: value}, inplace=True)' or df[col] = df[col].method(value) instead, to perform the operation inplace on the original object.\n",
      "\n",
      "\n",
      "  df[\"Rating\"].fillna(df[\"Rating\"].median(),inplace = True)\n"
     ]
    }
   ],
   "source": [
    "df[\"Rating\"].fillna(df[\"Rating\"].median(),inplace = True)"
   ]
  },
  {
   "cell_type": "code",
   "execution_count": 25,
   "id": "6ca3f5e7-1b44-434b-a877-60d2b0986de9",
   "metadata": {},
   "outputs": [
    {
     "ename": "SyntaxError",
     "evalue": "invalid syntax (1831581798.py, line 1)",
     "output_type": "error",
     "traceback": [
      "  \u001b[36mCell\u001b[39m\u001b[36m \u001b[39m\u001b[32mIn[25]\u001b[39m\u001b[32m, line 1\u001b[39m\n\u001b[31m    \u001b[39m\u001b[31mdf.[\"Department\"].sum()\u001b[39m\n       ^\n\u001b[31mSyntaxError\u001b[39m\u001b[31m:\u001b[39m invalid syntax\n"
     ]
    }
   ],
   "source": [
    "df.[\"Department\"].sum()"
   ]
  },
  {
   "cell_type": "code",
   "execution_count": 53,
   "id": "3702d2ab-b55e-4082-8470-997cd2badffd",
   "metadata": {},
   "outputs": [
    {
     "data": {
      "text/plain": [
       "Department\n",
       "Engineering    152\n",
       "Finance        142\n",
       "HR             168\n",
       "IT             165\n",
       "Sales          187\n",
       "Support        163\n",
       "Unknown         23\n",
       "dtype: int64"
      ]
     },
     "execution_count": 53,
     "metadata": {},
     "output_type": "execute_result"
    }
   ],
   "source": [
    "df.groupby(\"Department\").size()"
   ]
  },
  {
   "cell_type": "code",
   "execution_count": 46,
   "id": "f1ff43a0-9b3c-476b-b6ac-62e4117869b7",
   "metadata": {},
   "outputs": [],
   "source": [
    "df[\"Department\"].replace(\"inf\",np.nan,inplace=True)"
   ]
  },
  {
   "cell_type": "code",
   "execution_count": 47,
   "id": "d41cf739-5c7b-4b70-b75c-9b216dbe9268",
   "metadata": {},
   "outputs": [
    {
     "data": {
      "text/html": [
       "<div>\n",
       "<style scoped>\n",
       "    .dataframe tbody tr th:only-of-type {\n",
       "        vertical-align: middle;\n",
       "    }\n",
       "\n",
       "    .dataframe tbody tr th {\n",
       "        vertical-align: top;\n",
       "    }\n",
       "\n",
       "    .dataframe thead th {\n",
       "        text-align: right;\n",
       "    }\n",
       "</style>\n",
       "<table border=\"1\" class=\"dataframe\">\n",
       "  <thead>\n",
       "    <tr style=\"text-align: right;\">\n",
       "      <th></th>\n",
       "      <th>EmployeeID</th>\n",
       "      <th>Name</th>\n",
       "      <th>Age</th>\n",
       "      <th>Department</th>\n",
       "      <th>Salary</th>\n",
       "      <th>ExperienceYears</th>\n",
       "      <th>Rating</th>\n",
       "    </tr>\n",
       "  </thead>\n",
       "  <tbody>\n",
       "  </tbody>\n",
       "</table>\n",
       "</div>"
      ],
      "text/plain": [
       "Empty DataFrame\n",
       "Columns: [EmployeeID, Name, Age, Department, Salary, ExperienceYears, Rating]\n",
       "Index: []"
      ]
     },
     "execution_count": 47,
     "metadata": {},
     "output_type": "execute_result"
    }
   ],
   "source": [
    "df[df[\"Department\"] == \"inf\"]"
   ]
  },
  {
   "cell_type": "code",
   "execution_count": 44,
   "id": "5d4baa87-78d6-4af8-b016-c8f11aad7cb9",
   "metadata": {},
   "outputs": [
    {
     "data": {
      "text/plain": [
       "dtype('O')"
      ]
     },
     "execution_count": 44,
     "metadata": {},
     "output_type": "execute_result"
    }
   ],
   "source": [
    "df[\"Department\"].dtype"
   ]
  },
  {
   "cell_type": "code",
   "execution_count": 52,
   "id": "137cc41f-ed4b-4b99-8a80-e6cbf386ecd5",
   "metadata": {},
   "outputs": [],
   "source": [
    "df[\"Department\"].fillna(\"Unknown\",inplace =True)"
   ]
  },
  {
   "cell_type": "code",
   "execution_count": 57,
   "id": "55432b65-111a-4e9f-84e0-ad5dd1880614",
   "metadata": {},
   "outputs": [
    {
     "data": {
      "text/plain": [
       "0      False\n",
       "1      False\n",
       "2      False\n",
       "3      False\n",
       "4      False\n",
       "       ...  \n",
       "995    False\n",
       "996    False\n",
       "997    False\n",
       "998    False\n",
       "999    False\n",
       "Length: 1000, dtype: bool"
      ]
     },
     "execution_count": 57,
     "metadata": {},
     "output_type": "execute_result"
    }
   ],
   "source": []
  },
  {
   "cell_type": "code",
   "execution_count": 59,
   "id": "3fc61c89-1506-439b-a408-10958935722d",
   "metadata": {},
   "outputs": [],
   "source": [
    "## remove all dupluicate rows in dataset"
   ]
  },
  {
   "cell_type": "code",
   "execution_count": 61,
   "id": "5a262146-8672-46e6-bd65-24b5bacef52f",
   "metadata": {},
   "outputs": [],
   "source": [
    "df.drop_duplicates(inplace=True)"
   ]
  },
  {
   "cell_type": "code",
   "execution_count": 68,
   "id": "6e541535-5064-45a7-aabe-28d9bfb34991",
   "metadata": {},
   "outputs": [
    {
     "ename": "SyntaxError",
     "evalue": "invalid syntax (2423585243.py, line 1)",
     "output_type": "error",
     "traceback": [
      "  \u001b[36mCell\u001b[39m\u001b[36m \u001b[39m\u001b[32mIn[68]\u001b[39m\u001b[32m, line 1\u001b[39m\n\u001b[31m    \u001b[39m\u001b[31mdf.describe.()\u001b[39m\n                ^\n\u001b[31mSyntaxError\u001b[39m\u001b[31m:\u001b[39m invalid syntax\n"
     ]
    }
   ],
   "source": [
    "df.describe.()"
   ]
  },
  {
   "cell_type": "code",
   "execution_count": 69,
   "id": "e461cfb9-6b22-403b-8a26-4694a0128328",
   "metadata": {},
   "outputs": [],
   "source": [
    "## replace the nagative salary by average Salary"
   ]
  },
  {
   "cell_type": "code",
   "execution_count": 70,
   "id": "98a4151b-d30d-44a4-9de4-f088d9baa92a",
   "metadata": {},
   "outputs": [],
   "source": [
    "df[\"Salary\"]=np.where(df[\"Salary\"] < 0, df[\"Salary\"].mean(),df[\"Salary\"])"
   ]
  },
  {
   "cell_type": "code",
   "execution_count": 72,
   "id": "9619e976-6837-4fcc-bfd3-fc736624b538",
   "metadata": {},
   "outputs": [],
   "source": [
    "## remove the outlier from Salary column OR outlier Handling\n"
   ]
  },
  {
   "cell_type": "code",
   "execution_count": 76,
   "id": "a516e0fd-65cf-4a0e-9e2a-abfb60d55a80",
   "metadata": {},
   "outputs": [],
   "source": [
    "salary_mean = df[\"Salary\"].mean()\n",
    "salary_std = df[\"Salary\"].std()\n",
    "lower_bound = salary_mean - (3* Salary_std)\n",
    "upper_bound = salary_mean + (3*salary_std)"
   ]
  },
  {
   "cell_type": "code",
   "execution_count": 77,
   "id": "f1b067eb-336c-4d6b-a478-95d5568b3ca7",
   "metadata": {},
   "outputs": [],
   "source": [
    "## remove rows where salary is too low or too high"
   ]
  },
  {
   "cell_type": "code",
   "execution_count": 80,
   "id": "d3f4ee90-dc6e-475e-8138-ea514e945b9b",
   "metadata": {},
   "outputs": [],
   "source": [
    "df= (df[\"Salary\"]>=lower_bound) & (df[\"Salary\"] <= upper_bound)"
   ]
  },
  {
   "cell_type": "code",
   "execution_count": 82,
   "id": "f685546c-b955-4a86-a7f7-531599fceeee",
   "metadata": {},
   "outputs": [
    {
     "name": "stdout",
     "output_type": "stream",
     "text": [
      "Data cleaning completed saved as \"Cleaned_employee_data.csv\" \n"
     ]
    }
   ],
   "source": [
    "df.to_csv(\"Cleaned_employee_data.csv\",index =False)\n",
    "\n",
    "print('Data cleaning completed saved as \"Cleaned_employee_data.csv\" ')"
   ]
  },
  {
   "cell_type": "code",
   "execution_count": null,
   "id": "22c0ea45-b543-41dd-903b-46226c3727d0",
   "metadata": {},
   "outputs": [],
   "source": []
  }
 ],
 "metadata": {
  "kernelspec": {
   "display_name": "Python 3 (ipykernel)",
   "language": "python",
   "name": "python3"
  },
  "language_info": {
   "codemirror_mode": {
    "name": "ipython",
    "version": 3
   },
   "file_extension": ".py",
   "mimetype": "text/x-python",
   "name": "python",
   "nbconvert_exporter": "python",
   "pygments_lexer": "ipython3",
   "version": "3.13.3"
  }
 },
 "nbformat": 4,
 "nbformat_minor": 5
}
